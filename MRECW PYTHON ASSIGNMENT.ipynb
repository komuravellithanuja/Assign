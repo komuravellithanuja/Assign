{
 "cells": [
  {
   "cell_type": "markdown",
   "metadata": {},
   "source": [
    "# HOMEWORK ASSIGNMENT"
   ]
  },
  {
   "cell_type": "markdown",
   "metadata": {},
   "source": [
    "# Problem 1"
   ]
  },
  {
   "cell_type": "markdown",
   "metadata": {},
   "source": [
    "define a series with even values from 100 to 200 in descending order"
   ]
  },
  {
   "cell_type": "code",
   "execution_count": 1,
   "metadata": {},
   "outputs": [
    {
     "name": "stdout",
     "output_type": "stream",
     "text": [
      "[200, 198, 196, 194, 192, 190, 188, 186, 184, 182, 180, 178, 176, 174, 172, 170, 168, 166, 164, 162, 160, 158, 156, 154, 152, 150, 148, 146, 144, 142, 140, 138, 136, 134, 132, 130, 128, 126, 124, 122, 120, 118, 116, 114, 112, 110, 108, 106, 104, 102, 100]\n",
      "0     200\n",
      "1     198\n",
      "2     196\n",
      "3     194\n",
      "4     192\n",
      "5     190\n",
      "6     188\n",
      "7     186\n",
      "8     184\n",
      "9     182\n",
      "10    180\n",
      "11    178\n",
      "12    176\n",
      "13    174\n",
      "14    172\n",
      "15    170\n",
      "16    168\n",
      "17    166\n",
      "18    164\n",
      "19    162\n",
      "20    160\n",
      "21    158\n",
      "22    156\n",
      "23    154\n",
      "24    152\n",
      "25    150\n",
      "26    148\n",
      "27    146\n",
      "28    144\n",
      "29    142\n",
      "30    140\n",
      "31    138\n",
      "32    136\n",
      "33    134\n",
      "34    132\n",
      "35    130\n",
      "36    128\n",
      "37    126\n",
      "38    124\n",
      "39    122\n",
      "40    120\n",
      "41    118\n",
      "42    116\n",
      "43    114\n",
      "44    112\n",
      "45    110\n",
      "46    108\n",
      "47    106\n",
      "48    104\n",
      "49    102\n",
      "50    100\n",
      "dtype: int64\n"
     ]
    }
   ],
   "source": [
    "import numpy as np\n",
    "import pandas as pd\n",
    "np_arr=np.array([i for i in range(100,201)])\n",
    "even_ctr = list(filter(lambda x: (x%2 == 0) , np_arr))\n",
    "even_ctr.reverse()\n",
    "print(even_ctr)\n",
    "s=pd.Series(even_ctr)\n",
    "print(s)"
   ]
  },
  {
   "cell_type": "markdown",
   "metadata": {},
   "source": [
    "# Problem 2"
   ]
  },
  {
   "cell_type": "markdown",
   "metadata": {},
   "source": [
    "assign index to this series starting from 100"
   ]
  },
  {
   "cell_type": "code",
   "execution_count": 2,
   "metadata": {},
   "outputs": [
    {
     "name": "stdout",
     "output_type": "stream",
     "text": [
      "100    200\n",
      "101    198\n",
      "102    196\n",
      "103    194\n",
      "104    192\n",
      "105    190\n",
      "106    188\n",
      "107    186\n",
      "108    184\n",
      "109    182\n",
      "110    180\n",
      "111    178\n",
      "112    176\n",
      "113    174\n",
      "114    172\n",
      "115    170\n",
      "116    168\n",
      "117    166\n",
      "118    164\n",
      "119    162\n",
      "120    160\n",
      "121    158\n",
      "122    156\n",
      "123    154\n",
      "124    152\n",
      "125    150\n",
      "126    148\n",
      "127    146\n",
      "128    144\n",
      "129    142\n",
      "130    140\n",
      "131    138\n",
      "132    136\n",
      "133    134\n",
      "134    132\n",
      "135    130\n",
      "136    128\n",
      "137    126\n",
      "138    124\n",
      "139    122\n",
      "140    120\n",
      "141    118\n",
      "142    116\n",
      "143    114\n",
      "144    112\n",
      "145    110\n",
      "146    108\n",
      "147    106\n",
      "148    104\n",
      "149    102\n",
      "150    100\n",
      "dtype: int64\n"
     ]
    }
   ],
   "source": [
    "a=[i for i in range(100,151)]\n",
    "s = pd.Series(even_ctr,index=a)\n",
    "print(s)\n"
   ]
  },
  {
   "cell_type": "markdown",
   "metadata": {},
   "source": [
    "# Problem 3"
   ]
  },
  {
   "cell_type": "markdown",
   "metadata": {},
   "source": [
    "create a dataframe of random values of shape 8*6 . Assign index as numerical values and column names from a to f and using loc and iloc print values of rows 3,4 and columns b and e"
   ]
  },
  {
   "cell_type": "code",
   "execution_count": 3,
   "metadata": {},
   "outputs": [
    {
     "name": "stdout",
     "output_type": "stream",
     "text": [
      "          a         b         c         d         e         f\n",
      "1  1.024744 -2.454340  1.474455 -0.893909  0.880281  0.339799\n",
      "2 -1.164995  0.080277 -0.566035  0.384333 -0.634352 -0.812072\n",
      "3  1.567187 -0.072708  0.495616 -0.025669  0.768223  1.697593\n",
      "4  2.637393 -0.023533 -0.898505  0.948181 -2.306339 -0.918345\n",
      "5  0.983302  1.021119 -0.081722 -0.539854 -0.731196 -0.344765\n",
      "6 -0.150348  1.512115  0.376986 -1.645772  1.105325  1.030388\n",
      "7 -1.073948 -1.422419  0.621359  0.495304  0.770280  0.236157\n",
      "8 -0.903873 -0.148707 -2.500764  2.810762 -0.601729 -0.217718\n"
     ]
    }
   ],
   "source": [
    "import numpy as np\n",
    "import pandas as pd\n",
    "data=pd.DataFrame(np.random.randn(8,6),index='1 2 3 4 5 6 7 8'.split(),columns='a b c d e f'.split())\n",
    "print(data)\n"
   ]
  },
  {
   "cell_type": "code",
   "execution_count": 4,
   "metadata": {},
   "outputs": [
    {
     "data": {
      "text/html": [
       "<div>\n",
       "<style scoped>\n",
       "    .dataframe tbody tr th:only-of-type {\n",
       "        vertical-align: middle;\n",
       "    }\n",
       "\n",
       "    .dataframe tbody tr th {\n",
       "        vertical-align: top;\n",
       "    }\n",
       "\n",
       "    .dataframe thead th {\n",
       "        text-align: right;\n",
       "    }\n",
       "</style>\n",
       "<table border=\"1\" class=\"dataframe\">\n",
       "  <thead>\n",
       "    <tr style=\"text-align: right;\">\n",
       "      <th></th>\n",
       "      <th>a</th>\n",
       "      <th>b</th>\n",
       "      <th>c</th>\n",
       "      <th>d</th>\n",
       "      <th>e</th>\n",
       "      <th>f</th>\n",
       "    </tr>\n",
       "  </thead>\n",
       "  <tbody>\n",
       "    <tr>\n",
       "      <td>4</td>\n",
       "      <td>2.637393</td>\n",
       "      <td>-0.023533</td>\n",
       "      <td>-0.898505</td>\n",
       "      <td>0.948181</td>\n",
       "      <td>-2.306339</td>\n",
       "      <td>-0.918345</td>\n",
       "    </tr>\n",
       "    <tr>\n",
       "      <td>5</td>\n",
       "      <td>0.983302</td>\n",
       "      <td>1.021119</td>\n",
       "      <td>-0.081722</td>\n",
       "      <td>-0.539854</td>\n",
       "      <td>-0.731196</td>\n",
       "      <td>-0.344765</td>\n",
       "    </tr>\n",
       "  </tbody>\n",
       "</table>\n",
       "</div>"
      ],
      "text/plain": [
       "          a         b         c         d         e         f\n",
       "4  2.637393 -0.023533 -0.898505  0.948181 -2.306339 -0.918345\n",
       "5  0.983302  1.021119 -0.081722 -0.539854 -0.731196 -0.344765"
      ]
     },
     "execution_count": 4,
     "metadata": {},
     "output_type": "execute_result"
    }
   ],
   "source": [
    "data.iloc[3:5]"
   ]
  },
  {
   "cell_type": "code",
   "execution_count": 5,
   "metadata": {},
   "outputs": [
    {
     "name": "stdout",
     "output_type": "stream",
     "text": [
      "          b         e\n",
      "1 -2.454340  0.880281\n",
      "2  0.080277 -0.634352\n",
      "3 -0.072708  0.768223\n",
      "4 -0.023533 -2.306339\n",
      "5  1.021119 -0.731196\n",
      "6  1.512115  1.105325\n",
      "7 -1.422419  0.770280\n",
      "8 -0.148707 -0.601729\n"
     ]
    }
   ],
   "source": [
    "print(data[['b','e']])"
   ]
  },
  {
   "cell_type": "markdown",
   "metadata": {},
   "source": [
    "# Problem 4"
   ]
  },
  {
   "cell_type": "markdown",
   "metadata": {},
   "source": [
    "create a multi-index dataframe and 1st index is [\"cse\",\"IT\"] and second index is 1 to 6 numbers. use 2 columns A,B and assign random values to it "
   ]
  },
  {
   "cell_type": "code",
   "execution_count": 6,
   "metadata": {},
   "outputs": [
    {
     "name": "stdout",
     "output_type": "stream",
     "text": [
      "[('cse', 1), ('cse', 2), ('cse', 3), ('cse', 4), ('cse', 5), ('cse', 6), ('IT', 1), ('IT', 2), ('IT', 3), ('IT', 4), ('IT', 5), ('IT', 6)]\n"
     ]
    }
   ],
   "source": [
    "arrays = [\n",
    "          [\"cse\", \"cse\", \"cse\", \"cse\", \"cse\", \"cse\", \"IT\", \"IT\",\"IT\",\"IT\",\"IT\",\"IT\"],\n",
    "          [1, 2, 3, 4, 5, 6,1,2,3,4,5,6],\n",
    "         ]\n",
    "tuples = list(zip(*arrays))\n",
    "print(tuples)"
   ]
  },
  {
   "cell_type": "code",
   "execution_count": 7,
   "metadata": {},
   "outputs": [
    {
     "name": "stdout",
     "output_type": "stream",
     "text": [
      "MultiIndex([('cse', 1),\n",
      "            ('cse', 2),\n",
      "            ('cse', 3),\n",
      "            ('cse', 4),\n",
      "            ('cse', 5),\n",
      "            ('cse', 6),\n",
      "            ( 'IT', 1),\n",
      "            ( 'IT', 2),\n",
      "            ( 'IT', 3),\n",
      "            ( 'IT', 4),\n",
      "            ( 'IT', 5),\n",
      "            ( 'IT', 6)],\n",
      "           names=['A', 'B'])\n"
     ]
    }
   ],
   "source": [
    "import numpy as np\n",
    "import pandas as pd\n",
    "index = pd.MultiIndex.from_tuples(tuples, names=[\"A\", \"B\"])\n",
    "print(index)"
   ]
  },
  {
   "cell_type": "code",
   "execution_count": 8,
   "metadata": {},
   "outputs": [
    {
     "name": "stdout",
     "output_type": "stream",
     "text": [
      "A    B\n",
      "cse  1    0.022696\n",
      "     2   -0.487609\n",
      "     3    1.379933\n",
      "     4    0.477673\n",
      "     5   -0.628796\n",
      "     6    0.708721\n",
      "IT   1   -0.548921\n",
      "     2   -0.970526\n",
      "     3   -0.734780\n",
      "     4    0.250059\n",
      "     5    1.183405\n",
      "     6    0.549900\n",
      "dtype: float64\n"
     ]
    }
   ],
   "source": [
    "s = pd.Series(np.random.randn(12), index=index)\n",
    "print(s)"
   ]
  },
  {
   "cell_type": "markdown",
   "metadata": {},
   "source": [
    "# Problem 5"
   ]
  },
  {
   "cell_type": "markdown",
   "metadata": {},
   "source": [
    "print the row value of number 4 from cse"
   ]
  },
  {
   "cell_type": "code",
   "execution_count": 9,
   "metadata": {},
   "outputs": [
    {
     "data": {
      "text/plain": [
       "0.4776728557566618"
      ]
     },
     "execution_count": 9,
     "metadata": {},
     "output_type": "execute_result"
    }
   ],
   "source": [
    "s.loc[(\"cse\",4)]"
   ]
  },
  {
   "cell_type": "markdown",
   "metadata": {},
   "source": [
    "# Problem 6"
   ]
  },
  {
   "cell_type": "markdown",
   "metadata": {},
   "source": [
    "print the row value of 3,5 from IT"
   ]
  },
  {
   "cell_type": "code",
   "execution_count": 10,
   "metadata": {},
   "outputs": [
    {
     "name": "stdout",
     "output_type": "stream",
     "text": [
      "A    B\n",
      "cse  1    0.022696\n",
      "     2   -0.487609\n",
      "     3    1.379933\n",
      "     4    0.477673\n",
      "     5   -0.628796\n",
      "     6    0.708721\n",
      "IT   1   -0.548921\n",
      "     2   -0.970526\n",
      "     3   -0.734780\n",
      "     4    0.250059\n",
      "     5    1.183405\n",
      "     6    0.549900\n",
      "dtype: float64\n"
     ]
    },
    {
     "data": {
      "text/plain": [
       "-0.7347800869448069"
      ]
     },
     "execution_count": 10,
     "metadata": {},
     "output_type": "execute_result"
    }
   ],
   "source": [
    "print(s)\n",
    "s.loc[(\"IT\",3)]"
   ]
  },
  {
   "cell_type": "code",
   "execution_count": 11,
   "metadata": {},
   "outputs": [
    {
     "name": "stdout",
     "output_type": "stream",
     "text": [
      "A    B\n",
      "cse  1    0.022696\n",
      "     2   -0.487609\n",
      "     3    1.379933\n",
      "     4    0.477673\n",
      "     5   -0.628796\n",
      "     6    0.708721\n",
      "IT   1   -0.548921\n",
      "     2   -0.970526\n",
      "     3   -0.734780\n",
      "     4    0.250059\n",
      "     5    1.183405\n",
      "     6    0.549900\n",
      "dtype: float64\n"
     ]
    },
    {
     "data": {
      "text/plain": [
       "1.1834049457455542"
      ]
     },
     "execution_count": 11,
     "metadata": {},
     "output_type": "execute_result"
    }
   ],
   "source": [
    "print(s)\n",
    "s.loc[(\"IT\",5)]"
   ]
  },
  {
   "cell_type": "code",
   "execution_count": null,
   "metadata": {},
   "outputs": [],
   "source": []
  }
 ],
 "metadata": {
  "kernelspec": {
   "display_name": "Python 3",
   "language": "python",
   "name": "python3"
  },
  "language_info": {
   "codemirror_mode": {
    "name": "ipython",
    "version": 3
   },
   "file_extension": ".py",
   "mimetype": "text/x-python",
   "name": "python",
   "nbconvert_exporter": "python",
   "pygments_lexer": "ipython3",
   "version": "3.7.4"
  },
  "varInspector": {
   "cols": {
    "lenName": 16,
    "lenType": 16,
    "lenVar": 40
   },
   "kernels_config": {
    "python": {
     "delete_cmd_postfix": "",
     "delete_cmd_prefix": "del ",
     "library": "var_list.py",
     "varRefreshCmd": "print(var_dic_list())"
    },
    "r": {
     "delete_cmd_postfix": ") ",
     "delete_cmd_prefix": "rm(",
     "library": "var_list.r",
     "varRefreshCmd": "cat(var_dic_list()) "
    }
   },
   "types_to_exclude": [
    "module",
    "function",
    "builtin_function_or_method",
    "instance",
    "_Feature"
   ],
   "window_display": false
  }
 },
 "nbformat": 4,
 "nbformat_minor": 2
}
